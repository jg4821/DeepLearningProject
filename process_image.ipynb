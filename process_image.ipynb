{
 "cells": [
  {
   "cell_type": "code",
   "execution_count": 1,
   "metadata": {
    "collapsed": true
   },
   "outputs": [],
   "source": [
    "from PIL import Image\n",
    "from torchvision.transforms import ToTensor\n",
    "from torchvision.transforms import Resize\n",
    "import torch.utils.data as data"
   ]
  },
  {
   "cell_type": "code",
   "execution_count": 19,
   "metadata": {
    "collapsed": true
   },
   "outputs": [],
   "source": [
    "import torch\n",
    "import torch.nn as nn\n",
    "import torchvision.transforms as transforms\n",
    "from torch.autograd import Variable"
   ]
  },
  {
   "cell_type": "code",
   "execution_count": 3,
   "metadata": {
    "collapsed": true
   },
   "outputs": [],
   "source": [
    "import pandas as pd\n",
    "import numpy as np\n",
    "from sklearn.metrics import f1_score"
   ]
  },
  {
   "cell_type": "code",
   "execution_count": 4,
   "metadata": {},
   "outputs": [],
   "source": [
    "from __future__ import absolute_import\n",
    "from __future__ import division\n",
    "from __future__ import print_function\n",
    "\n",
    "import io\n",
    "import os\n",
    "import sys\n",
    "import json\n",
    "import urllib3\n",
    "import multiprocessing\n",
    "\n",
    "from PIL import Image\n",
    "from tqdm import tqdm\n",
    "from urllib3.util import Retry"
   ]
  },
  {
   "cell_type": "code",
   "execution_count": 56,
   "metadata": {},
   "outputs": [
    {
     "name": "stdout",
     "output_type": "stream",
     "text": [
      "Collecting tqdm\n",
      "  Downloading tqdm-4.21.0-py2.py3-none-any.whl (42kB)\n",
      "\u001b[K    100% |████████████████████████████████| 51kB 3.2MB/s ta 0:00:011\n",
      "\u001b[?25hInstalling collected packages: tqdm\n",
      "Successfully installed tqdm-4.21.0\n",
      "\u001b[33mYou are using pip version 9.0.1, however version 9.0.3 is available.\n",
      "You should consider upgrading via the 'pip install --upgrade pip' command.\u001b[0m\n"
     ]
    }
   ],
   "source": [
    "!pip install tqdm"
   ]
  },
  {
   "cell_type": "markdown",
   "metadata": {},
   "source": [
    "## Download data"
   ]
  },
  {
   "cell_type": "code",
   "execution_count": 63,
   "metadata": {
    "collapsed": true
   },
   "outputs": [],
   "source": [
    "urllib3.disable_warnings(urllib3.exceptions.InsecureRequestWarning)\n",
    "\n",
    "\n",
    "def download_image(fnames_and_urls):\n",
    "    \"\"\"\n",
    "    download image and save its with 90% quality as JPG format\n",
    "    skip image downloading if image already exists at given path\n",
    "    :param fnames_and_urls: tuple containing absolute path and url of image\n",
    "    \"\"\"\n",
    "    fname, url = fnames_and_urls\n",
    "    if not os.path.exists(fname):\n",
    "        http = urllib3.PoolManager(retries=Retry(connect=3, read=2, redirect=3))\n",
    "        response = http.request(\"GET\", url)\n",
    "        image = Image.open(io.BytesIO(response.data))\n",
    "        image_rgb = image.convert(\"RGB\")\n",
    "        image_rgb.save(fname, format='JPEG', quality=90)\n",
    "\n",
    "\n",
    "def parse_dataset(_dataset, _outdir, _max=10000):\n",
    "    \"\"\"\n",
    "    parse the dataset to create a list of tuple containing absolute path and url of image\n",
    "    :param _dataset: dataset to parse\n",
    "    :param _outdir: output directory where data will be saved\n",
    "    :param _max: maximum images to download (change to download all dataset)\n",
    "    :return: list of tuple containing absolute path and url of image\n",
    "    \"\"\"\n",
    "    _fnames_urls = []\n",
    "    with open(dataset, 'r') as f:\n",
    "        data = json.load(f)\n",
    "        for image in data[\"images\"]:\n",
    "            url = image[\"url\"]\n",
    "            fname = os.path.join(outdir, \"{}.jpg\".format(image[\"imageId\"]))\n",
    "            _fnames_urls.append((fname, url))\n",
    "    return _fnames_urls[:_max]"
   ]
  },
  {
   "cell_type": "code",
   "execution_count": null,
   "metadata": {
    "collapsed": true
   },
   "outputs": [],
   "source": [
    "fnames_and_urls = []\n",
    "url = image[\"url\"]\n",
    "fname = os.path.join(outdir, \"{}.jpg\".format(image[\"imageId\"]))\n",
    "_fnames_urls.append((fname, url))"
   ]
  },
  {
   "cell_type": "markdown",
   "metadata": {},
   "source": [
    "## Load data"
   ]
  },
  {
   "cell_type": "code",
   "execution_count": 78,
   "metadata": {},
   "outputs": [],
   "source": [
    "with open(\"/Users/jiayi/1008 deep learning/data/train.json\") as json_data:\n",
    "    train = json.load(json_data)\n",
    "with open('/Users/jiayi/1008 deep learning/data/test.json') as json_data:\n",
    "    test= json.load(json_data)\n",
    "with open('/Users/jiayi/1008 deep learning/data/validation.json') as json_data:\n",
    "    validation = json.load(json_data)"
   ]
  },
  {
   "cell_type": "code",
   "execution_count": 79,
   "metadata": {},
   "outputs": [],
   "source": [
    "# JSON TO PANDAS DATAFRAME\n",
    "# train data\n",
    "train_img_url=train['images']\n",
    "train_img_url=pd.DataFrame(train_img_url)\n",
    "train_ann=train['annotations']\n",
    "train_ann=pd.DataFrame(train_ann)\n",
    "train=pd.merge(train_img_url, train_ann, on='imageId', how='inner')"
   ]
  },
  {
   "cell_type": "code",
   "execution_count": 80,
   "metadata": {},
   "outputs": [],
   "source": [
    "# Validation Data (total 9897)\n",
    "val_img_url=validation['images']\n",
    "val_img_url=pd.DataFrame(val_img_url)\n",
    "val_ann=validation['annotations']\n",
    "val_ann=pd.DataFrame(val_ann)\n",
    "validation=pd.merge(val_img_url, val_ann, on='imageId', how='inner')"
   ]
  },
  {
   "cell_type": "code",
   "execution_count": 81,
   "metadata": {},
   "outputs": [],
   "source": [
    "# test data\n",
    "test=pd.DataFrame(test['images'])"
   ]
  },
  {
   "cell_type": "code",
   "execution_count": 75,
   "metadata": {},
   "outputs": [
    {
     "data": {
      "text/html": [
       "<div>\n",
       "<style>\n",
       "    .dataframe thead tr:only-child th {\n",
       "        text-align: right;\n",
       "    }\n",
       "\n",
       "    .dataframe thead th {\n",
       "        text-align: left;\n",
       "    }\n",
       "\n",
       "    .dataframe tbody tr th {\n",
       "        vertical-align: top;\n",
       "    }\n",
       "</style>\n",
       "<table border=\"1\" class=\"dataframe\">\n",
       "  <thead>\n",
       "    <tr style=\"text-align: right;\">\n",
       "      <th></th>\n",
       "      <th>imageId</th>\n",
       "      <th>url</th>\n",
       "    </tr>\n",
       "  </thead>\n",
       "  <tbody>\n",
       "    <tr>\n",
       "      <th>0</th>\n",
       "      <td>1</td>\n",
       "      <td>https://contestimg.wish.com/api/webimage/568e1...</td>\n",
       "    </tr>\n",
       "    <tr>\n",
       "      <th>1</th>\n",
       "      <td>2</td>\n",
       "      <td>https://contestimg.wish.com/api/webimage/5452f...</td>\n",
       "    </tr>\n",
       "    <tr>\n",
       "      <th>2</th>\n",
       "      <td>3</td>\n",
       "      <td>https://contestimg.wish.com/api/webimage/54058...</td>\n",
       "    </tr>\n",
       "    <tr>\n",
       "      <th>3</th>\n",
       "      <td>4</td>\n",
       "      <td>https://contestimg.wish.com/api/webimage/540c6...</td>\n",
       "    </tr>\n",
       "    <tr>\n",
       "      <th>4</th>\n",
       "      <td>5</td>\n",
       "      <td>https://contestimg.wish.com/api/webimage/54477...</td>\n",
       "    </tr>\n",
       "  </tbody>\n",
       "</table>\n",
       "</div>"
      ],
      "text/plain": [
       "   imageId                                                url\n",
       "0        1  https://contestimg.wish.com/api/webimage/568e1...\n",
       "1        2  https://contestimg.wish.com/api/webimage/5452f...\n",
       "2        3  https://contestimg.wish.com/api/webimage/54058...\n",
       "3        4  https://contestimg.wish.com/api/webimage/540c6...\n",
       "4        5  https://contestimg.wish.com/api/webimage/54477..."
      ]
     },
     "execution_count": 75,
     "metadata": {},
     "output_type": "execute_result"
    }
   ],
   "source": [
    "test.head()"
   ]
  },
  {
   "cell_type": "markdown",
   "metadata": {},
   "source": [
    "### Multilabel Binarizer"
   ]
  },
  {
   "cell_type": "code",
   "execution_count": 82,
   "metadata": {},
   "outputs": [],
   "source": [
    "from sklearn.preprocessing import MultiLabelBinarizer\n",
    "mlb = MultiLabelBinarizer()\n",
    "train_label = mlb.fit_transform(train['labelId'])\n",
    "validation_label = mlb.transform(validation['labelId'])\n",
    "dummy_label_col = list(mlb.classes_)"
   ]
  },
  {
   "cell_type": "code",
   "execution_count": 97,
   "metadata": {},
   "outputs": [],
   "source": [
    "# convert train_label to dataframe\n",
    "train_label = pd.DataFrame(data = train_label, columns = list(mlb.classes_))\n",
    "# train_label.head()\n",
    "validation_label = pd.DataFrame(data = validation_label, columns = list(mlb.classes_))\n",
    "# validation_label.head()"
   ]
  },
  {
   "cell_type": "code",
   "execution_count": 95,
   "metadata": {
    "collapsed": true
   },
   "outputs": [],
   "source": [
    "# take first 10000 images as smaller training data and first 200 as val data\n",
    "train_sm = train[:10000]\n",
    "train_sm_label = train_label[:10000]\n",
    "val_sm = validation[:200]\n",
    "val_sm_label = validation_label[:200]"
   ]
  },
  {
   "cell_type": "code",
   "execution_count": 106,
   "metadata": {},
   "outputs": [
    {
     "data": {
      "text/plain": [
       "(228,)"
      ]
     },
     "execution_count": 106,
     "metadata": {},
     "output_type": "execute_result"
    }
   ],
   "source": [
    "train_sm_label.iloc[0,:].as_matrix().reshape(-1).shape"
   ]
  },
  {
   "cell_type": "code",
   "execution_count": 107,
   "metadata": {
    "collapsed": true
   },
   "outputs": [],
   "source": [
    "test_label = pd.read_csv('./data/train_label_col.csv')"
   ]
  },
  {
   "cell_type": "code",
   "execution_count": 109,
   "metadata": {},
   "outputs": [
    {
     "data": {
      "text/plain": [
       "(10000, 228)"
      ]
     },
     "execution_count": 109,
     "metadata": {},
     "output_type": "execute_result"
    }
   ],
   "source": [
    "test_label.shape"
   ]
  },
  {
   "cell_type": "code",
   "execution_count": 98,
   "metadata": {
    "collapsed": true
   },
   "outputs": [],
   "source": [
    "# Save as numpy\n",
    "# dummy_label_col = pd.DataFrame(columns = dummy_label_col)\n",
    "# dummy_label_col.to_csv('/Users/jiayi/1008 deep learning/data/dummy_label_col.csv', index = False)\n",
    "# train_sm_label.to_csv('/Users/jiayi/1008 deep learning/data/train_label_col.csv', index = False)\n",
    "# val_sm_label.to_csv('/Users/jiayi/1008 deep learning/data/val_label_col.csv', index = False)\n",
    "\n",
    "# np.save('%s/dummy_label_train.npy' % '', train_label)\n",
    "# np.save('%s/dummy_label_val.npy' % '', validation_label)\n",
    "# dummy_label_col.head()"
   ]
  },
  {
   "cell_type": "markdown",
   "metadata": {},
   "source": [
    "### Convert data to Dataloader "
   ]
  },
  {
   "cell_type": "code",
   "execution_count": 5,
   "metadata": {},
   "outputs": [],
   "source": [
    "class FashionDataset(data.Dataset):\n",
    "\n",
    "    def __init__(self, root, csv_file, transform=None):\n",
    "        self.root = os.path.expanduser(root)\n",
    "        self.transform = transform\n",
    "        self.label_file = pd.read_csv(csv_file)\n",
    "\n",
    "    def __getitem__(self, index):\n",
    "        img_path = os.path.join(self.root,\"{}.jpg\".format(index))\n",
    "        image = Image.open(img_path)\n",
    "        label = self.label_file.iloc[index,:].as_matrix()\n",
    "\n",
    "        if self.transform is not None:\n",
    "            image = self.transform(image)\n",
    "\n",
    "        return image, label\n",
    "\n",
    "    def __len__(self):\n",
    "        return len(self.label_file)"
   ]
  },
  {
   "cell_type": "code",
   "execution_count": 29,
   "metadata": {},
   "outputs": [],
   "source": [
    "data_transform = transforms.Compose([\n",
    "        transforms.ToTensor(),\n",
    "        transforms.Normalize(mean=[0.485, 0.456, 0.406],\n",
    "                             std=[0.229, 0.224, 0.225])\n",
    "    ])"
   ]
  },
  {
   "cell_type": "code",
   "execution_count": 30,
   "metadata": {
    "collapsed": true
   },
   "outputs": [],
   "source": [
    "train_dataset=FashionDataset(root='/Users/jiayi/1008 deep learning/Image/train_resize',csv_file='/Users/jiayi/1008 deep learning/data/train_label_col.csv',transform=data_transform)\n",
    "val_dataset=FashionDataset(root='/Users/jiayi/1008 deep learning/Image/val_resize',csv_file='/Users/jiayi/1008 deep learning/data/val_label_col.csv',transform=data_transform)"
   ]
  },
  {
   "cell_type": "code",
   "execution_count": 125,
   "metadata": {},
   "outputs": [
    {
     "name": "stdout",
     "output_type": "stream",
     "text": [
      "\n",
      "( 0 ,.,.) = \n",
      "  0.5412  0.5686  0.5373  ...   0.5059  0.5451  0.5647\n",
      "  0.3098  0.3176  0.2431  ...   0.5020  0.5412  0.5608\n",
      "  0.1725  0.1647  0.0863  ...   0.4902  0.5255  0.5451\n",
      "           ...             ⋱             ...          \n",
      "  0.9294  0.9412  0.9529  ...   0.8745  0.8745  0.8745\n",
      "  0.9294  0.9412  0.9529  ...   0.8745  0.8745  0.8745\n",
      "  0.9294  0.9412  0.9529  ...   0.8745  0.8745  0.8745\n",
      "\n",
      "( 1 ,.,.) = \n",
      "  0.5804  0.6078  0.5647  ...   0.5333  0.5725  0.5922\n",
      "  0.3490  0.3451  0.2706  ...   0.5333  0.5725  0.5922\n",
      "  0.2000  0.1922  0.1137  ...   0.5451  0.5804  0.6000\n",
      "           ...             ⋱             ...          \n",
      "  0.9059  0.9176  0.9294  ...   0.8784  0.8784  0.8784\n",
      "  0.9059  0.9176  0.9294  ...   0.8784  0.8784  0.8784\n",
      "  0.9059  0.9176  0.9294  ...   0.8784  0.8784  0.8784\n",
      "\n",
      "( 2 ,.,.) = \n",
      "  0.5490  0.5765  0.5373  ...   0.4706  0.5098  0.5294\n",
      "  0.3176  0.3176  0.2431  ...   0.4745  0.5137  0.5333\n",
      "  0.1725  0.1647  0.0863  ...   0.4863  0.5216  0.5412\n",
      "           ...             ⋱             ...          \n",
      "  0.8431  0.8549  0.8667  ...   0.8549  0.8549  0.8549\n",
      "  0.8431  0.8549  0.8667  ...   0.8549  0.8549  0.8549\n",
      "  0.8431  0.8549  0.8667  ...   0.8549  0.8549  0.8549\n",
      "[torch.FloatTensor of size 3x500x500]\n",
      " [0 0 0 0 0 0 0 0 0 0 0 0 0 0 0 0 0 0 0 0 0 0 0 0 0 0 0 0 0 0 0 0 0 0 0 0 0\n",
      " 0 0 0 0 0 1 0 0 0 0 0 0 0 0 0 0 0 0 0 0 0 0 0 0 0 0 0 0 0 0 0 0 0 0 0 0 0\n",
      " 0 0 0 0 0 0 0 0 0 0 0 0 0 0 0 0 0 0 0 0 0 0 0 0 0 0 0 0 0 0 0 0 0 0 0 0 0\n",
      " 0 1 0 0 0 0 0 0 0 0 0 0 0 0 0 0 0 0 0 0 0 0 0 0 0 0 0 0 0 0 0 0 0 0 0 0 0\n",
      " 0 0 0 0 0 0 0 0 0 0 0 0 0 0 0 0 0 0 0 0 0 0 0 0 0 0 0 0 0 0 0 0 0 0 0 0 0\n",
      " 0 0 0 0 0 0 1 0 0 0 0 1 0 0 0 0 0 0 0 0 0 0 0 0 0 0 0 0 0 0 0 0 0 0 0 0 0\n",
      " 0 1 0 0 0 0]\n",
      "\n",
      "( 0 ,.,.) = \n",
      "  0.5412  0.5686  0.5373  ...   0.5059  0.5451  0.5647\n",
      "  0.3098  0.3176  0.2431  ...   0.5020  0.5412  0.5608\n",
      "  0.1725  0.1647  0.0863  ...   0.4902  0.5255  0.5451\n",
      "           ...             ⋱             ...          \n",
      "  0.9294  0.9412  0.9529  ...   0.8745  0.8745  0.8745\n",
      "  0.9294  0.9412  0.9529  ...   0.8745  0.8745  0.8745\n",
      "  0.9294  0.9412  0.9529  ...   0.8745  0.8745  0.8745\n",
      "\n",
      "( 1 ,.,.) = \n",
      "  0.5804  0.6078  0.5647  ...   0.5333  0.5725  0.5922\n",
      "  0.3490  0.3451  0.2706  ...   0.5333  0.5725  0.5922\n",
      "  0.2000  0.1922  0.1137  ...   0.5451  0.5804  0.6000\n",
      "           ...             ⋱             ...          \n",
      "  0.9059  0.9176  0.9294  ...   0.8784  0.8784  0.8784\n",
      "  0.9059  0.9176  0.9294  ...   0.8784  0.8784  0.8784\n",
      "  0.9059  0.9176  0.9294  ...   0.8784  0.8784  0.8784\n",
      "\n",
      "( 2 ,.,.) = \n",
      "  0.5490  0.5765  0.5373  ...   0.4706  0.5098  0.5294\n",
      "  0.3176  0.3176  0.2431  ...   0.4745  0.5137  0.5333\n",
      "  0.1725  0.1647  0.0863  ...   0.4863  0.5216  0.5412\n",
      "           ...             ⋱             ...          \n",
      "  0.8431  0.8549  0.8667  ...   0.8549  0.8549  0.8549\n",
      "  0.8431  0.8549  0.8667  ...   0.8549  0.8549  0.8549\n",
      "  0.8431  0.8549  0.8667  ...   0.8549  0.8549  0.8549\n",
      "[torch.FloatTensor of size 3x500x500]\n",
      " [0 0 0 0 0 0 0 1 0 0 0 0 0 0 0 0 0 0 0 0 0 0 0 0 0 0 0 0 0 0 0 0 0 0 0 0 0\n",
      " 0 1 0 0 0 0 0 0 0 0 0 0 0 0 0 0 0 0 0 0 0 0 0 0 0 0 0 0 0 0 0 0 0 0 0 0 0\n",
      " 0 0 0 0 0 0 0 0 0 0 0 0 0 0 0 0 0 0 0 0 0 0 0 0 0 0 0 0 0 0 0 0 0 0 0 0 0\n",
      " 0 0 0 0 0 0 0 0 0 0 0 0 0 0 0 0 0 1 0 0 0 0 0 0 0 0 0 0 0 0 0 0 0 0 0 0 0\n",
      " 0 0 0 0 0 0 0 0 0 0 1 0 0 0 0 0 0 0 0 1 0 0 0 0 0 0 0 0 0 0 0 0 0 0 0 0 0\n",
      " 0 0 0 0 0 0 1 0 0 0 0 0 0 0 0 0 0 0 0 0 0 0 0 0 0 0 0 0 0 0 0 0 0 0 0 0 0\n",
      " 0 0 0 0 0 0]\n",
      "\n",
      "( 0 ,.,.) = \n",
      "  0.5412  0.5686  0.5373  ...   0.5059  0.5451  0.5647\n",
      "  0.3098  0.3176  0.2431  ...   0.5020  0.5412  0.5608\n",
      "  0.1725  0.1647  0.0863  ...   0.4902  0.5255  0.5451\n",
      "           ...             ⋱             ...          \n",
      "  0.9294  0.9412  0.9529  ...   0.8745  0.8745  0.8745\n",
      "  0.9294  0.9412  0.9529  ...   0.8745  0.8745  0.8745\n",
      "  0.9294  0.9412  0.9529  ...   0.8745  0.8745  0.8745\n",
      "\n",
      "( 1 ,.,.) = \n",
      "  0.5804  0.6078  0.5647  ...   0.5333  0.5725  0.5922\n",
      "  0.3490  0.3451  0.2706  ...   0.5333  0.5725  0.5922\n",
      "  0.2000  0.1922  0.1137  ...   0.5451  0.5804  0.6000\n",
      "           ...             ⋱             ...          \n",
      "  0.9059  0.9176  0.9294  ...   0.8784  0.8784  0.8784\n",
      "  0.9059  0.9176  0.9294  ...   0.8784  0.8784  0.8784\n",
      "  0.9059  0.9176  0.9294  ...   0.8784  0.8784  0.8784\n",
      "\n",
      "( 2 ,.,.) = \n",
      "  0.5490  0.5765  0.5373  ...   0.4706  0.5098  0.5294\n",
      "  0.3176  0.3176  0.2431  ...   0.4745  0.5137  0.5333\n",
      "  0.1725  0.1647  0.0863  ...   0.4863  0.5216  0.5412\n",
      "           ...             ⋱             ...          \n",
      "  0.8431  0.8549  0.8667  ...   0.8549  0.8549  0.8549\n",
      "  0.8431  0.8549  0.8667  ...   0.8549  0.8549  0.8549\n",
      "  0.8431  0.8549  0.8667  ...   0.8549  0.8549  0.8549\n",
      "[torch.FloatTensor of size 3x500x500]\n",
      " [0 0 0 0 0 0 0 1 0 0 0 0 0 0 0 0 0 0 0 0 0 0 0 0 0 0 0 0 0 0 0 0 0 0 0 0 0\n",
      " 0 0 0 0 0 0 1 0 0 0 0 0 0 0 0 0 0 0 0 0 0 0 0 1 0 0 0 0 0 0 0 0 0 0 0 0 0\n",
      " 0 0 0 0 0 1 0 0 0 0 0 0 0 0 0 0 0 0 0 0 0 0 0 0 0 0 0 0 0 0 0 0 0 0 0 0 0\n",
      " 0 0 0 0 0 0 0 0 0 0 0 0 0 0 0 0 0 0 0 0 0 0 0 0 0 0 0 0 0 0 0 0 0 0 0 0 0\n",
      " 0 0 0 0 0 0 0 0 0 0 0 0 0 0 0 0 0 0 0 0 0 0 0 0 0 0 0 0 0 0 0 0 0 0 0 0 0\n",
      " 0 0 0 0 0 0 1 0 0 0 0 0 0 0 0 0 0 0 0 0 0 0 0 0 0 0 0 0 0 0 0 0 0 0 0 0 0\n",
      " 0 0 0 1 0 0]\n",
      "\n",
      "( 0 ,.,.) = \n",
      "  0.5412  0.5686  0.5373  ...   0.5059  0.5451  0.5647\n",
      "  0.3098  0.3176  0.2431  ...   0.5020  0.5412  0.5608\n",
      "  0.1725  0.1647  0.0863  ...   0.4902  0.5255  0.5451\n",
      "           ...             ⋱             ...          \n",
      "  0.9294  0.9412  0.9529  ...   0.8745  0.8745  0.8745\n",
      "  0.9294  0.9412  0.9529  ...   0.8745  0.8745  0.8745\n",
      "  0.9294  0.9412  0.9529  ...   0.8745  0.8745  0.8745\n",
      "\n",
      "( 1 ,.,.) = \n",
      "  0.5804  0.6078  0.5647  ...   0.5333  0.5725  0.5922\n",
      "  0.3490  0.3451  0.2706  ...   0.5333  0.5725  0.5922\n",
      "  0.2000  0.1922  0.1137  ...   0.5451  0.5804  0.6000\n",
      "           ...             ⋱             ...          \n",
      "  0.9059  0.9176  0.9294  ...   0.8784  0.8784  0.8784\n",
      "  0.9059  0.9176  0.9294  ...   0.8784  0.8784  0.8784\n",
      "  0.9059  0.9176  0.9294  ...   0.8784  0.8784  0.8784\n",
      "\n",
      "( 2 ,.,.) = \n",
      "  0.5490  0.5765  0.5373  ...   0.4706  0.5098  0.5294\n",
      "  0.3176  0.3176  0.2431  ...   0.4745  0.5137  0.5333\n",
      "  0.1725  0.1647  0.0863  ...   0.4863  0.5216  0.5412\n",
      "           ...             ⋱             ...          \n",
      "  0.8431  0.8549  0.8667  ...   0.8549  0.8549  0.8549\n",
      "  0.8431  0.8549  0.8667  ...   0.8549  0.8549  0.8549\n",
      "  0.8431  0.8549  0.8667  ...   0.8549  0.8549  0.8549\n",
      "[torch.FloatTensor of size 3x500x500]\n",
      " [0 0 0 0 0 0 0 0 0 0 0 0 0 0 0 0 0 0 0 0 0 0 0 0 0 0 0 0 0 0 0 0 0 0 0 0 0\n",
      " 0 0 0 0 0 0 0 0 0 0 0 0 0 0 0 0 0 0 0 0 0 0 0 1 0 0 0 0 0 0 0 0 0 0 0 1 0\n",
      " 0 0 0 0 0 0 0 0 0 0 0 0 0 0 0 1 0 0 0 0 0 0 0 0 0 0 0 0 0 0 0 0 0 0 0 0 0\n",
      " 0 0 0 0 0 0 0 0 0 0 0 0 0 0 0 0 0 0 0 0 0 0 0 0 0 0 0 0 0 0 0 0 0 0 0 0 0\n",
      " 0 0 0 0 0 0 0 0 0 0 0 0 0 0 0 0 0 0 0 1 0 0 0 0 0 0 0 0 0 0 0 0 0 0 0 0 0\n",
      " 0 0 0 0 0 0 1 0 0 0 0 0 0 0 0 0 0 0 0 0 0 0 0 0 0 0 0 0 0 0 0 0 0 0 0 0 0\n",
      " 0 0 0 0 0 0]\n",
      "\n",
      "( 0 ,.,.) = \n",
      "  0.5412  0.5686  0.5373  ...   0.5059  0.5451  0.5647\n",
      "  0.3098  0.3176  0.2431  ...   0.5020  0.5412  0.5608\n",
      "  0.1725  0.1647  0.0863  ...   0.4902  0.5255  0.5451\n",
      "           ...             ⋱             ...          \n",
      "  0.9294  0.9412  0.9529  ...   0.8745  0.8745  0.8745\n",
      "  0.9294  0.9412  0.9529  ...   0.8745  0.8745  0.8745\n",
      "  0.9294  0.9412  0.9529  ...   0.8745  0.8745  0.8745\n",
      "\n",
      "( 1 ,.,.) = \n",
      "  0.5804  0.6078  0.5647  ...   0.5333  0.5725  0.5922\n",
      "  0.3490  0.3451  0.2706  ...   0.5333  0.5725  0.5922\n",
      "  0.2000  0.1922  0.1137  ...   0.5451  0.5804  0.6000\n",
      "           ...             ⋱             ...          \n",
      "  0.9059  0.9176  0.9294  ...   0.8784  0.8784  0.8784\n",
      "  0.9059  0.9176  0.9294  ...   0.8784  0.8784  0.8784\n",
      "  0.9059  0.9176  0.9294  ...   0.8784  0.8784  0.8784\n",
      "\n",
      "( 2 ,.,.) = \n",
      "  0.5490  0.5765  0.5373  ...   0.4706  0.5098  0.5294\n",
      "  0.3176  0.3176  0.2431  ...   0.4745  0.5137  0.5333\n",
      "  0.1725  0.1647  0.0863  ...   0.4863  0.5216  0.5412\n",
      "           ...             ⋱             ...          \n",
      "  0.8431  0.8549  0.8667  ...   0.8549  0.8549  0.8549\n",
      "  0.8431  0.8549  0.8667  ...   0.8549  0.8549  0.8549\n",
      "  0.8431  0.8549  0.8667  ...   0.8549  0.8549  0.8549\n",
      "[torch.FloatTensor of size 3x500x500]\n",
      " [0 0 0 0 0 0 0 0 0 0 0 0 0 0 0 0 0 0 0 0 0 0 0 0 0 0 0 0 0 0 0 0 0 0 0 0 0\n",
      " 0 0 0 0 0 1 1 0 0 0 0 0 0 0 0 0 0 0 0 0 0 0 0 1 0 0 0 0 0 0 0 0 0 0 0 0 0\n",
      " 0 0 0 0 0 0 1 0 0 0 0 1 0 0 0 0 0 1 0 0 0 0 0 0 0 1 0 0 0 0 0 0 0 0 0 0 0\n",
      " 0 0 0 0 0 0 0 0 0 0 0 0 0 0 0 0 0 0 0 0 0 0 0 0 0 0 0 0 0 0 0 0 0 0 0 0 0\n",
      " 0 0 0 0 0 0 0 0 0 0 0 0 0 0 0 0 0 0 0 0 0 0 0 0 0 0 0 0 0 0 0 0 0 0 0 0 0\n",
      " 0 0 0 0 0 0 1 0 0 0 0 0 0 0 0 1 0 0 0 0 0 0 0 0 0 0 0 0 0 0 0 0 0 0 0 0 0\n",
      " 0 0 0 0 0 0]\n",
      "\n",
      "( 0 ,.,.) = \n",
      "  0.5412  0.5686  0.5373  ...   0.5059  0.5451  0.5647\n",
      "  0.3098  0.3176  0.2431  ...   0.5020  0.5412  0.5608\n",
      "  0.1725  0.1647  0.0863  ...   0.4902  0.5255  0.5451\n",
      "           ...             ⋱             ...          \n",
      "  0.9294  0.9412  0.9529  ...   0.8745  0.8745  0.8745\n",
      "  0.9294  0.9412  0.9529  ...   0.8745  0.8745  0.8745\n",
      "  0.9294  0.9412  0.9529  ...   0.8745  0.8745  0.8745\n",
      "\n",
      "( 1 ,.,.) = \n",
      "  0.5804  0.6078  0.5647  ...   0.5333  0.5725  0.5922\n",
      "  0.3490  0.3451  0.2706  ...   0.5333  0.5725  0.5922\n",
      "  0.2000  0.1922  0.1137  ...   0.5451  0.5804  0.6000\n",
      "           ...             ⋱             ...          \n",
      "  0.9059  0.9176  0.9294  ...   0.8784  0.8784  0.8784\n",
      "  0.9059  0.9176  0.9294  ...   0.8784  0.8784  0.8784\n",
      "  0.9059  0.9176  0.9294  ...   0.8784  0.8784  0.8784\n",
      "\n",
      "( 2 ,.,.) = \n",
      "  0.5490  0.5765  0.5373  ...   0.4706  0.5098  0.5294\n",
      "  0.3176  0.3176  0.2431  ...   0.4745  0.5137  0.5333\n",
      "  0.1725  0.1647  0.0863  ...   0.4863  0.5216  0.5412\n",
      "           ...             ⋱             ...          \n",
      "  0.8431  0.8549  0.8667  ...   0.8549  0.8549  0.8549\n",
      "  0.8431  0.8549  0.8667  ...   0.8549  0.8549  0.8549\n",
      "  0.8431  0.8549  0.8667  ...   0.8549  0.8549  0.8549\n",
      "[torch.FloatTensor of size 3x500x500]\n",
      " [0 0 0 0 0 0 0 0 1 0 0 0 0 0 0 0 0 0 0 0 0 0 0 0 0 0 0 0 0 0 0 0 0 0 0 0 0\n",
      " 0 0 0 0 0 0 0 0 0 0 0 0 0 0 0 0 0 0 0 0 0 0 0 1 0 0 0 0 0 0 0 0 0 0 0 1 0\n",
      " 0 0 0 0 0 0 0 0 0 0 0 0 0 0 0 0 0 0 0 0 1 0 0 0 0 0 0 1 0 0 0 0 0 0 0 0 0\n",
      " 0 0 0 0 0 0 0 0 0 0 0 0 0 0 0 0 0 0 0 0 0 0 0 0 0 0 0 0 0 0 0 0 0 0 0 0 0\n",
      " 0 0 0 0 0 0 0 0 0 0 0 0 0 0 0 0 0 0 0 0 0 0 0 0 0 0 0 0 0 1 0 0 0 0 0 0 0\n",
      " 0 0 0 0 0 0 0 0 0 0 0 0 0 0 0 0 0 0 0 0 0 0 0 0 0 0 0 0 0 0 0 0 0 0 0 0 0\n",
      " 0 0 0 0 0 0]\n",
      "\n",
      "( 0 ,.,.) = \n",
      "  0.5412  0.5686  0.5373  ...   0.5059  0.5451  0.5647\n",
      "  0.3098  0.3176  0.2431  ...   0.5020  0.5412  0.5608\n",
      "  0.1725  0.1647  0.0863  ...   0.4902  0.5255  0.5451\n",
      "           ...             ⋱             ...          \n",
      "  0.9294  0.9412  0.9529  ...   0.8745  0.8745  0.8745\n",
      "  0.9294  0.9412  0.9529  ...   0.8745  0.8745  0.8745\n",
      "  0.9294  0.9412  0.9529  ...   0.8745  0.8745  0.8745\n",
      "\n",
      "( 1 ,.,.) = \n",
      "  0.5804  0.6078  0.5647  ...   0.5333  0.5725  0.5922\n",
      "  0.3490  0.3451  0.2706  ...   0.5333  0.5725  0.5922\n",
      "  0.2000  0.1922  0.1137  ...   0.5451  0.5804  0.6000\n",
      "           ...             ⋱             ...          \n",
      "  0.9059  0.9176  0.9294  ...   0.8784  0.8784  0.8784\n",
      "  0.9059  0.9176  0.9294  ...   0.8784  0.8784  0.8784\n",
      "  0.9059  0.9176  0.9294  ...   0.8784  0.8784  0.8784\n",
      "\n",
      "( 2 ,.,.) = \n",
      "  0.5490  0.5765  0.5373  ...   0.4706  0.5098  0.5294\n",
      "  0.3176  0.3176  0.2431  ...   0.4745  0.5137  0.5333\n",
      "  0.1725  0.1647  0.0863  ...   0.4863  0.5216  0.5412\n",
      "           ...             ⋱             ...          \n",
      "  0.8431  0.8549  0.8667  ...   0.8549  0.8549  0.8549\n",
      "  0.8431  0.8549  0.8667  ...   0.8549  0.8549  0.8549\n",
      "  0.8431  0.8549  0.8667  ...   0.8549  0.8549  0.8549\n",
      "[torch.FloatTensor of size 3x500x500]\n",
      " [0 0 0 0 0 0 0 0 0 0 0 0 0 0 0 0 1 1 0 0 0 0 0 0 0 0 0 0 0 0 0 0 0 0 0 0 0\n",
      " 0 0 0 0 0 0 0 0 0 0 0 0 0 0 0 0 0 0 0 0 0 0 0 0 0 0 0 0 0 0 0 0 0 0 0 0 0\n",
      " 0 0 0 0 0 0 0 0 0 0 0 1 0 0 0 0 0 0 0 0 0 0 0 0 0 0 0 0 0 0 0 0 0 0 0 0 0\n",
      " 0 0 0 0 0 0 0 0 0 0 0 0 0 0 0 0 0 1 0 0 0 0 0 0 0 0 1 0 0 0 0 0 0 0 0 0 0\n",
      " 0 0 0 0 0 0 0 0 0 0 0 0 0 0 0 0 0 0 0 0 0 0 0 0 0 0 0 0 0 0 0 0 0 0 0 0 0\n",
      " 0 0 0 0 0 0 0 0 0 0 0 0 0 0 0 0 0 0 0 0 0 0 0 0 0 0 0 0 0 1 0 0 0 0 0 0 0\n",
      " 0 0 0 0 0 0]\n"
     ]
    },
    {
     "name": "stdout",
     "output_type": "stream",
     "text": [
      "\n",
      "( 0 ,.,.) = \n",
      "  0.5412  0.5686  0.5373  ...   0.5059  0.5451  0.5647\n",
      "  0.3098  0.3176  0.2431  ...   0.5020  0.5412  0.5608\n",
      "  0.1725  0.1647  0.0863  ...   0.4902  0.5255  0.5451\n",
      "           ...             ⋱             ...          \n",
      "  0.9294  0.9412  0.9529  ...   0.8745  0.8745  0.8745\n",
      "  0.9294  0.9412  0.9529  ...   0.8745  0.8745  0.8745\n",
      "  0.9294  0.9412  0.9529  ...   0.8745  0.8745  0.8745\n",
      "\n",
      "( 1 ,.,.) = \n",
      "  0.5804  0.6078  0.5647  ...   0.5333  0.5725  0.5922\n",
      "  0.3490  0.3451  0.2706  ...   0.5333  0.5725  0.5922\n",
      "  0.2000  0.1922  0.1137  ...   0.5451  0.5804  0.6000\n",
      "           ...             ⋱             ...          \n",
      "  0.9059  0.9176  0.9294  ...   0.8784  0.8784  0.8784\n",
      "  0.9059  0.9176  0.9294  ...   0.8784  0.8784  0.8784\n",
      "  0.9059  0.9176  0.9294  ...   0.8784  0.8784  0.8784\n",
      "\n",
      "( 2 ,.,.) = \n",
      "  0.5490  0.5765  0.5373  ...   0.4706  0.5098  0.5294\n",
      "  0.3176  0.3176  0.2431  ...   0.4745  0.5137  0.5333\n",
      "  0.1725  0.1647  0.0863  ...   0.4863  0.5216  0.5412\n",
      "           ...             ⋱             ...          \n",
      "  0.8431  0.8549  0.8667  ...   0.8549  0.8549  0.8549\n",
      "  0.8431  0.8549  0.8667  ...   0.8549  0.8549  0.8549\n",
      "  0.8431  0.8549  0.8667  ...   0.8549  0.8549  0.8549\n",
      "[torch.FloatTensor of size 3x500x500]\n",
      " [0 0 0 0 0 0 0 1 0 0 0 0 0 1 0 0 0 0 0 0 0 0 0 0 0 0 0 0 0 0 0 0 0 0 0 0 0\n",
      " 0 0 0 0 0 0 0 0 0 0 0 0 0 0 0 0 0 0 0 0 0 0 0 0 0 0 0 0 0 0 0 0 0 0 0 0 0\n",
      " 0 0 0 0 1 0 0 0 0 0 0 0 0 0 0 1 0 0 0 0 0 0 0 0 0 0 0 0 0 0 0 0 0 0 0 0 0\n",
      " 0 0 0 0 0 0 0 0 0 0 0 0 0 0 0 0 0 0 0 0 0 0 0 0 0 0 0 0 0 0 0 0 0 0 0 0 0\n",
      " 0 0 0 0 0 0 0 0 0 0 0 0 0 0 0 0 0 0 0 1 0 0 0 0 1 0 0 0 0 0 0 0 0 0 0 0 0\n",
      " 0 0 0 0 0 0 1 0 0 0 0 0 0 0 0 0 0 0 0 0 0 0 0 0 0 0 0 0 0 0 0 0 0 0 0 0 0\n",
      " 0 0 0 0 1 0]\n",
      "\n",
      "( 0 ,.,.) = \n",
      "  0.5412  0.5686  0.5373  ...   0.5059  0.5451  0.5647\n",
      "  0.3098  0.3176  0.2431  ...   0.5020  0.5412  0.5608\n",
      "  0.1725  0.1647  0.0863  ...   0.4902  0.5255  0.5451\n",
      "           ...             ⋱             ...          \n",
      "  0.9294  0.9412  0.9529  ...   0.8745  0.8745  0.8745\n",
      "  0.9294  0.9412  0.9529  ...   0.8745  0.8745  0.8745\n",
      "  0.9294  0.9412  0.9529  ...   0.8745  0.8745  0.8745\n",
      "\n",
      "( 1 ,.,.) = \n",
      "  0.5804  0.6078  0.5647  ...   0.5333  0.5725  0.5922\n",
      "  0.3490  0.3451  0.2706  ...   0.5333  0.5725  0.5922\n",
      "  0.2000  0.1922  0.1137  ...   0.5451  0.5804  0.6000\n",
      "           ...             ⋱             ...          \n",
      "  0.9059  0.9176  0.9294  ...   0.8784  0.8784  0.8784\n",
      "  0.9059  0.9176  0.9294  ...   0.8784  0.8784  0.8784\n",
      "  0.9059  0.9176  0.9294  ...   0.8784  0.8784  0.8784\n",
      "\n",
      "( 2 ,.,.) = \n",
      "  0.5490  0.5765  0.5373  ...   0.4706  0.5098  0.5294\n",
      "  0.3176  0.3176  0.2431  ...   0.4745  0.5137  0.5333\n",
      "  0.1725  0.1647  0.0863  ...   0.4863  0.5216  0.5412\n",
      "           ...             ⋱             ...          \n",
      "  0.8431  0.8549  0.8667  ...   0.8549  0.8549  0.8549\n",
      "  0.8431  0.8549  0.8667  ...   0.8549  0.8549  0.8549\n",
      "  0.8431  0.8549  0.8667  ...   0.8549  0.8549  0.8549\n",
      "[torch.FloatTensor of size 3x500x500]\n",
      " [0 0 0 0 0 0 0 1 0 0 0 0 0 0 0 0 0 0 0 0 0 0 0 0 0 0 0 0 0 0 0 0 0 0 0 0 0\n",
      " 0 0 0 0 0 0 0 0 0 0 0 0 0 0 0 0 0 0 0 0 0 0 0 1 0 0 0 0 0 0 0 0 0 0 0 0 0\n",
      " 0 0 0 0 0 0 0 0 0 0 0 0 0 0 0 0 0 1 0 0 0 0 0 0 0 0 0 0 0 0 0 0 0 0 0 0 0\n",
      " 0 0 0 0 0 0 0 0 0 0 0 0 0 0 0 0 0 0 0 0 0 1 0 0 0 0 0 0 0 0 0 0 0 0 0 0 0\n",
      " 0 0 0 0 0 0 0 0 0 0 0 0 0 0 0 0 0 0 0 0 0 0 0 0 0 0 0 0 0 0 0 0 0 0 0 0 0\n",
      " 0 0 0 0 0 0 1 0 0 0 0 0 0 0 0 0 0 0 0 0 0 0 0 0 0 0 0 0 0 0 0 0 0 0 0 0 0\n",
      " 0 0 0 1 0 0]\n",
      "\n",
      "( 0 ,.,.) = \n",
      "  0.5412  0.5686  0.5373  ...   0.5059  0.5451  0.5647\n",
      "  0.3098  0.3176  0.2431  ...   0.5020  0.5412  0.5608\n",
      "  0.1725  0.1647  0.0863  ...   0.4902  0.5255  0.5451\n",
      "           ...             ⋱             ...          \n",
      "  0.9294  0.9412  0.9529  ...   0.8745  0.8745  0.8745\n",
      "  0.9294  0.9412  0.9529  ...   0.8745  0.8745  0.8745\n",
      "  0.9294  0.9412  0.9529  ...   0.8745  0.8745  0.8745\n",
      "\n",
      "( 1 ,.,.) = \n",
      "  0.5804  0.6078  0.5647  ...   0.5333  0.5725  0.5922\n",
      "  0.3490  0.3451  0.2706  ...   0.5333  0.5725  0.5922\n",
      "  0.2000  0.1922  0.1137  ...   0.5451  0.5804  0.6000\n",
      "           ...             ⋱             ...          \n",
      "  0.9059  0.9176  0.9294  ...   0.8784  0.8784  0.8784\n",
      "  0.9059  0.9176  0.9294  ...   0.8784  0.8784  0.8784\n",
      "  0.9059  0.9176  0.9294  ...   0.8784  0.8784  0.8784\n",
      "\n",
      "( 2 ,.,.) = \n",
      "  0.5490  0.5765  0.5373  ...   0.4706  0.5098  0.5294\n",
      "  0.3176  0.3176  0.2431  ...   0.4745  0.5137  0.5333\n",
      "  0.1725  0.1647  0.0863  ...   0.4863  0.5216  0.5412\n",
      "           ...             ⋱             ...          \n",
      "  0.8431  0.8549  0.8667  ...   0.8549  0.8549  0.8549\n",
      "  0.8431  0.8549  0.8667  ...   0.8549  0.8549  0.8549\n",
      "  0.8431  0.8549  0.8667  ...   0.8549  0.8549  0.8549\n",
      "[torch.FloatTensor of size 3x500x500]\n",
      " [0 0 0 0 0 0 0 1 0 0 0 0 0 0 0 0 0 0 0 0 0 0 0 0 0 0 0 0 0 0 0 0 0 0 0 0 0\n",
      " 0 0 0 0 0 0 0 0 0 0 0 0 0 0 0 0 0 0 0 0 0 1 0 0 0 0 0 0 0 0 0 0 0 0 0 0 0\n",
      " 0 0 0 0 0 0 0 0 0 0 0 0 0 0 0 0 0 0 0 0 0 0 0 0 0 0 0 0 0 0 0 0 0 0 0 0 0\n",
      " 0 0 0 0 0 0 0 0 0 0 0 0 0 0 0 0 0 0 0 0 0 0 0 0 0 0 0 0 0 1 0 0 0 0 0 0 0\n",
      " 0 0 0 0 0 0 0 0 0 0 0 0 0 0 0 0 0 0 0 0 0 0 0 0 1 0 0 0 0 0 0 0 0 0 0 1 0\n",
      " 0 0 0 0 0 0 1 0 0 0 0 0 0 0 0 0 0 0 0 0 0 0 0 0 0 0 0 0 0 0 0 0 0 0 1 0 0\n",
      " 0 0 0 0 0 0]\n"
     ]
    }
   ],
   "source": [
    "for i in range(10):\n",
    "    img,label = train_dataset.__getitem__(i)\n",
    "    print(img,label)"
   ]
  },
  {
   "cell_type": "code",
   "execution_count": null,
   "metadata": {
    "collapsed": true
   },
   "outputs": [],
   "source": []
  },
  {
   "cell_type": "markdown",
   "metadata": {},
   "source": [
    "## CNN Model"
   ]
  },
  {
   "cell_type": "code",
   "execution_count": 31,
   "metadata": {},
   "outputs": [],
   "source": [
    "batch_size=2\n",
    "n_iters=5000\n",
    "num_epochs=n_iters/(len(train_dataset)/batch_size)\n",
    "num_epochs=int(num_epochs)\n",
    "train_loader=torch.utils.data.DataLoader(dataset=train_dataset,batch_size=batch_size,shuffle=True)\n",
    "val_loader=torch.utils.data.DataLoader(dataset=val_dataset,batch_size=batch_size,shuffle=True)"
   ]
  },
  {
   "cell_type": "code",
   "execution_count": 32,
   "metadata": {
    "collapsed": true
   },
   "outputs": [],
   "source": [
    "class CNNModule(nn.Module):\n",
    "    def __init__(self):\n",
    "        super (CNNModule,self).__init__()\n",
    "\n",
    "        self.cnn1 = nn.Conv2d(in_channels=3,out_channels=30,kernel_size=9,stride=1)\n",
    "        self.relu1=nn.ReLU()\n",
    "        nn.init.xavier_uniform(self.cnn1.weight)\n",
    "\n",
    "\n",
    "        self.maxpool1=nn.MaxPool2d(kernel_size=2)\n",
    "\n",
    "        self.cnn2=nn.Conv2d(in_channels=30,out_channels=90,kernel_size=9,stride=1)\n",
    "        self.relu2=nn.ReLU()\n",
    "        nn.init.xavier_uniform(self.cnn2.weight)\n",
    "        \n",
    "\n",
    "        self.maxpool2=nn.MaxPool2d(kernel_size=2)\n",
    "\n",
    "        self.fcl=nn.Linear(90*119*119,228)\n",
    "        \n",
    "        self.activation = nn.Sigmoid()\n",
    "        \n",
    "    def forward(self,x):\n",
    "        out=self.cnn1(x)\n",
    "        out=self.relu1(out)\n",
    "#         print (\"CNN1\")\n",
    "#         print (out.size())\n",
    "        \n",
    "        out=self.maxpool1(out)\n",
    "#         print (\"Maxpool1\")\n",
    "#         print (out.size())\n",
    "        \n",
    "        out=self.cnn2(out)\n",
    "        out=self.relu2(out)\n",
    "#         print (\"CNN2\")\n",
    "#         print (out.size())\n",
    "        out=self.maxpool2(out)\n",
    "#         print (\"Maxpool2\")\n",
    "#         print (out.size(0))\n",
    "        \n",
    "        out=out.view(out.size(0),-1)\n",
    "\n",
    "        out=self.fcl(out)\n",
    "#         print(out.size())\n",
    "        out = self.activation(out)\n",
    "#         out[out>0.6] = 1\n",
    "#         out[out<=0.6] = 0\n",
    "\n",
    "        return out"
   ]
  },
  {
   "cell_type": "code",
   "execution_count": 34,
   "metadata": {},
   "outputs": [
    {
     "name": "stdout",
     "output_type": "stream",
     "text": [
      "Variable containing:\n",
      "\n",
      "Columns 0 to 9 \n",
      " 0.5579  0.4462  0.4549  0.4113  0.5261  0.4440  0.5881  0.4423  0.5405  0.5925\n",
      " 0.5350  0.4732  0.4688  0.4438  0.5067  0.4816  0.5824  0.4434  0.5667  0.5837\n",
      "\n",
      "Columns 10 to 19 \n",
      " 0.5631  0.5086  0.4681  0.5141  0.5182  0.4898  0.4918  0.4685  0.3709  0.4137\n",
      " 0.5356  0.4929  0.4538  0.5181  0.5145  0.5205  0.5091  0.4816  0.3876  0.4217\n",
      "\n",
      "Columns 20 to 29 \n",
      " 0.5461  0.4971  0.3152  0.4731  0.4866  0.5262  0.4585  0.4952  0.5964  0.5383\n",
      " 0.5398  0.5043  0.3652  0.4548  0.4805  0.5328  0.4602  0.5247  0.5713  0.5879\n",
      "\n",
      "Columns 30 to 39 \n",
      " 0.4855  0.5150  0.5299  0.4418  0.4616  0.3553  0.4832  0.3870  0.5558  0.4796\n",
      " 0.4968  0.5270  0.5306  0.4335  0.4747  0.3903  0.5101  0.3891  0.5808  0.4903\n",
      "\n",
      "Columns 40 to 49 \n",
      " 0.4675  0.5042  0.4400  0.5612  0.5428  0.5180  0.4329  0.5522  0.5106  0.5378\n",
      " 0.4537  0.5040  0.4498  0.5445  0.5599  0.4659  0.4581  0.5766  0.5101  0.5306\n",
      "\n",
      "Columns 50 to 59 \n",
      " 0.5412  0.6195  0.5711  0.4897  0.4632  0.3601  0.4917  0.4160  0.5228  0.4459\n",
      " 0.5579  0.5906  0.5868  0.5005  0.4666  0.3824  0.5221  0.4420  0.4955  0.4533\n",
      "\n",
      "Columns 60 to 69 \n",
      " 0.6243  0.5584  0.5527  0.4854  0.4697  0.4918  0.4621  0.4827  0.5355  0.4161\n",
      " 0.5900  0.5562  0.5535  0.4709  0.4703  0.5037  0.4895  0.4732  0.5400  0.4165\n",
      "\n",
      "Columns 70 to 79 \n",
      " 0.5108  0.4611  0.4019  0.4677  0.4773  0.4520  0.4496  0.5239  0.5570  0.4839\n",
      " 0.5215  0.4458  0.4077  0.4752  0.4834  0.4484  0.4406  0.5421  0.5093  0.4685\n",
      "\n",
      "Columns 80 to 89 \n",
      " 0.5407  0.4485  0.5169  0.4116  0.4714  0.5386  0.4710  0.4934  0.4699  0.4471\n",
      " 0.5537  0.4501  0.5604  0.4140  0.4727  0.5329  0.4744  0.4910  0.4468  0.4649\n",
      "\n",
      "Columns 90 to 99 \n",
      " 0.4502  0.5340  0.5720  0.4885  0.4477  0.6161  0.4614  0.5808  0.5212  0.5505\n",
      " 0.4429  0.5297  0.5901  0.4450  0.4633  0.6074  0.4560  0.5681  0.5256  0.5504\n",
      "\n",
      "Columns 100 to 109 \n",
      " 0.5279  0.4481  0.4251  0.5198  0.4061  0.5617  0.4744  0.5071  0.4584  0.4534\n",
      " 0.5178  0.4332  0.4448  0.5212  0.4257  0.5161  0.4895  0.5093  0.4518  0.4400\n",
      "\n",
      "Columns 110 to 119 \n",
      " 0.3964  0.5761  0.5138  0.5525  0.5838  0.4618  0.4715  0.4338  0.4687  0.4828\n",
      " 0.3997  0.5534  0.5416  0.5556  0.5676  0.4809  0.4649  0.4278  0.4983  0.4924\n",
      "\n",
      "Columns 120 to 129 \n",
      " 0.4645  0.6241  0.4846  0.4948  0.5345  0.3823  0.5308  0.4690  0.5167  0.5003\n",
      " 0.4648  0.6284  0.5306  0.4966  0.5306  0.3924  0.5214  0.4679  0.5311  0.4916\n",
      "\n",
      "Columns 130 to 139 \n",
      " 0.4876  0.5613  0.4740  0.5314  0.3887  0.5440  0.5286  0.4836  0.4754  0.5917\n",
      " 0.4904  0.5363  0.4870  0.5091  0.3849  0.5285  0.5195  0.4953  0.4618  0.5564\n",
      "\n",
      "Columns 140 to 149 \n",
      " 0.5435  0.4994  0.4937  0.4881  0.4978  0.4240  0.4591  0.5580  0.4725  0.5196\n",
      " 0.5410  0.5044  0.4820  0.5198  0.5218  0.4200  0.4589  0.5619  0.4888  0.4899\n",
      "\n",
      "Columns 150 to 159 \n",
      " 0.5498  0.4997  0.4793  0.5194  0.4041  0.5109  0.5137  0.4795  0.6282  0.3965\n",
      " 0.5294  0.4955  0.4734  0.5115  0.4215  0.5155  0.5247  0.4791  0.6196  0.3992\n",
      "\n",
      "Columns 160 to 169 \n",
      " 0.5203  0.5297  0.5411  0.5240  0.4926  0.5014  0.4854  0.5386  0.5232  0.4391\n",
      " 0.5095  0.5306  0.5056  0.5087  0.5107  0.5064  0.5180  0.5270  0.5094  0.4286\n",
      "\n",
      "Columns 170 to 179 \n",
      " 0.5018  0.5228  0.4605  0.5050  0.4334  0.5332  0.4683  0.5275  0.5139  0.3877\n",
      " 0.4932  0.5295  0.4683  0.5380  0.4418  0.5239  0.4559  0.5265  0.5124  0.3976\n",
      "\n",
      "Columns 180 to 189 \n",
      " 0.5269  0.4802  0.5607  0.4872  0.4982  0.5154  0.5027  0.4818  0.4065  0.5370\n",
      " 0.5447  0.4608  0.5361  0.4949  0.5132  0.5001  0.4771  0.4841  0.4352  0.5437\n",
      "\n",
      "Columns 190 to 199 \n",
      " 0.4499  0.4391  0.5002  0.5074  0.5159  0.5022  0.5283  0.3964  0.5236  0.5637\n",
      " 0.4342  0.4554  0.5057  0.5239  0.5208  0.5170  0.5135  0.3932  0.5480  0.5686\n",
      "\n",
      "Columns 200 to 209 \n",
      " 0.5834  0.4426  0.4358  0.4940  0.6514  0.4774  0.4156  0.4846  0.4505  0.5507\n",
      " 0.5649  0.4441  0.4530  0.5038  0.6010  0.4865  0.4074  0.5048  0.4847  0.5532\n",
      "\n",
      "Columns 210 to 219 \n",
      " 0.4398  0.4851  0.4686  0.5278  0.5150  0.4843  0.5343  0.5521  0.4298  0.4940\n",
      " 0.4349  0.4899  0.4901  0.5032  0.5153  0.5275  0.5293  0.5529  0.4447  0.5000\n",
      "\n",
      "Columns 220 to 227 \n",
      " 0.4989  0.5491  0.4725  0.4936  0.5573  0.4420  0.5341  0.5739\n",
      " 0.4896  0.5331  0.5004  0.5111  0.5447  0.4483  0.5095  0.5780\n",
      "[torch.FloatTensor of size 2x228]\n",
      "\n",
      "Variable containing:\n",
      "\n",
      "Columns 0 to 12 \n",
      "    0     0     0     0     0     0     0     1     1     0     0     0     0\n",
      "    0     0     0     0     0     0     0     0     0     0     0     0     0\n",
      "\n",
      "Columns 13 to 25 \n",
      "    0     1     0     0     0     0     0     0     0     0     0     0     0\n",
      "    0     0     0     0     0     0     0     0     0     0     0     0     0\n",
      "\n",
      "Columns 26 to 38 \n",
      "    0     0     0     0     0     0     0     0     0     0     0     0     0\n",
      "    0     0     0     0     0     0     0     0     0     0     0     0     0\n",
      "\n",
      "Columns 39 to 51 \n",
      "    0     0     0     0     0     0     0     0     0     0     0     0     0\n",
      "    0     0     0     0     0     0     0     0     0     0     0     0     0\n",
      "\n",
      "Columns 52 to 64 \n",
      "    0     0     0     0     0     0     0     0     0     0     0     0     0\n",
      "    0     0     1     0     0     0     0     0     1     0     0     0     0\n",
      "\n",
      "Columns 65 to 77 \n",
      "    0     0     0     0     0     0     0     0     0     0     0     0     0\n",
      "    0     0     0     0     0     0     0     1     0     0     0     0     0\n",
      "\n",
      "Columns 78 to 90 \n",
      "    0     0     0     0     0     0     0     0     0     0     0     0     0\n",
      "    1     0     0     0     0     0     0     0     0     0     0     0     0\n",
      "\n",
      "Columns 91 to 103 \n",
      "    0     0     0     0     0     0     0     0     0     0     0     0     0\n",
      "    0     0     0     0     0     0     0     0     0     0     0     0     0\n",
      "\n",
      "Columns 104 to 116 \n",
      "    0     0     0     0     0     0     0     0     0     0     0     0     0\n",
      "    0     0     0     0     0     0     0     0     0     0     0     0     0\n",
      "\n",
      "Columns 117 to 129 \n",
      "    0     0     0     0     0     0     0     0     0     0     0     0     0\n",
      "    0     0     0     0     0     0     0     0     0     0     0     0     0\n",
      "\n",
      "Columns 130 to 142 \n",
      "    0     0     1     0     0     0     0     0     0     0     0     0     0\n",
      "    0     0     0     0     0     0     0     0     0     0     0     0     0\n",
      "\n",
      "Columns 143 to 155 \n",
      "    0     0     0     0     0     0     0     0     0     0     0     0     0\n",
      "    0     0     0     0     0     0     0     0     0     0     0     0     0\n",
      "\n",
      "Columns 156 to 168 \n",
      "    0     0     0     0     0     0     0     0     0     0     0     0     0\n",
      "    0     0     0     0     0     0     0     0     0     0     0     0     0\n",
      "\n",
      "Columns 169 to 181 \n",
      "    0     0     0     0     0     0     0     0     0     0     0     0     0\n",
      "    0     0     0     0     0     0     0     0     0     0     0     0     0\n",
      "\n",
      "Columns 182 to 194 \n",
      "    0     0     0     0     0     0     0     0     0     0     0     0     0\n",
      "    0     0     0     0     0     0     0     1     0     1     0     0     0\n",
      "\n",
      "Columns 195 to 207 \n",
      "    0     0     0     0     0     0     0     0     0     0     0     0     0\n",
      "    0     0     0     0     0     0     0     0     0     0     0     0     0\n",
      "\n",
      "Columns 208 to 220 \n",
      "    0     0     0     0     0     0     0     0     0     0     0     1     0\n",
      "    0     0     0     0     0     0     0     0     0     0     0     0     0\n",
      "\n",
      "Columns 221 to 227 \n",
      "    0     0     0     0     0     0     1\n",
      "    0     0     0     0     0     0     0\n",
      "[torch.LongTensor of size 2x228]\n",
      "\n"
     ]
    },
    {
     "ename": "RuntimeError",
     "evalue": "multi-target not supported at /Users/soumith/minicondabuild3/conda-bld/pytorch_1512381214802/work/torch/lib/THNN/generic/ClassNLLCriterion.c:22",
     "output_type": "error",
     "traceback": [
      "\u001b[0;31m---------------------------------------------------------------------------\u001b[0m",
      "\u001b[0;31mRuntimeError\u001b[0m                              Traceback (most recent call last)",
      "\u001b[0;32m<ipython-input-34-54693b8611c7>\u001b[0m in \u001b[0;36m<module>\u001b[0;34m()\u001b[0m\n\u001b[1;32m     15\u001b[0m \u001b[0;31m#         out[out>0.6] = 1\u001b[0m\u001b[0;34m\u001b[0m\u001b[0;34m\u001b[0m\u001b[0m\n\u001b[1;32m     16\u001b[0m \u001b[0;31m#         out[out<=0.6] = 0\u001b[0m\u001b[0;34m\u001b[0m\u001b[0;34m\u001b[0m\u001b[0m\n\u001b[0;32m---> 17\u001b[0;31m         \u001b[0mloss\u001b[0m\u001b[0;34m=\u001b[0m\u001b[0mcriterion\u001b[0m\u001b[0;34m(\u001b[0m\u001b[0moutputs\u001b[0m\u001b[0;34m,\u001b[0m\u001b[0mlabels\u001b[0m\u001b[0;34m)\u001b[0m\u001b[0;34m\u001b[0m\u001b[0m\n\u001b[0m\u001b[1;32m     18\u001b[0m         \u001b[0mloss\u001b[0m\u001b[0;34m.\u001b[0m\u001b[0mbackward\u001b[0m\u001b[0;34m(\u001b[0m\u001b[0;34m)\u001b[0m\u001b[0;34m\u001b[0m\u001b[0m\n\u001b[1;32m     19\u001b[0m         \u001b[0moptimizer\u001b[0m\u001b[0;34m.\u001b[0m\u001b[0mstep\u001b[0m\u001b[0;34m(\u001b[0m\u001b[0;34m)\u001b[0m\u001b[0;34m\u001b[0m\u001b[0m\n",
      "\u001b[0;32m/anaconda3/lib/python3.6/site-packages/torch/nn/modules/module.py\u001b[0m in \u001b[0;36m__call__\u001b[0;34m(self, *input, **kwargs)\u001b[0m\n\u001b[1;32m    323\u001b[0m         \u001b[0;32mfor\u001b[0m \u001b[0mhook\u001b[0m \u001b[0;32min\u001b[0m \u001b[0mself\u001b[0m\u001b[0;34m.\u001b[0m\u001b[0m_forward_pre_hooks\u001b[0m\u001b[0;34m.\u001b[0m\u001b[0mvalues\u001b[0m\u001b[0;34m(\u001b[0m\u001b[0;34m)\u001b[0m\u001b[0;34m:\u001b[0m\u001b[0;34m\u001b[0m\u001b[0m\n\u001b[1;32m    324\u001b[0m             \u001b[0mhook\u001b[0m\u001b[0;34m(\u001b[0m\u001b[0mself\u001b[0m\u001b[0;34m,\u001b[0m \u001b[0minput\u001b[0m\u001b[0;34m)\u001b[0m\u001b[0;34m\u001b[0m\u001b[0m\n\u001b[0;32m--> 325\u001b[0;31m         \u001b[0mresult\u001b[0m \u001b[0;34m=\u001b[0m \u001b[0mself\u001b[0m\u001b[0;34m.\u001b[0m\u001b[0mforward\u001b[0m\u001b[0;34m(\u001b[0m\u001b[0;34m*\u001b[0m\u001b[0minput\u001b[0m\u001b[0;34m,\u001b[0m \u001b[0;34m**\u001b[0m\u001b[0mkwargs\u001b[0m\u001b[0;34m)\u001b[0m\u001b[0;34m\u001b[0m\u001b[0m\n\u001b[0m\u001b[1;32m    326\u001b[0m         \u001b[0;32mfor\u001b[0m \u001b[0mhook\u001b[0m \u001b[0;32min\u001b[0m \u001b[0mself\u001b[0m\u001b[0;34m.\u001b[0m\u001b[0m_forward_hooks\u001b[0m\u001b[0;34m.\u001b[0m\u001b[0mvalues\u001b[0m\u001b[0;34m(\u001b[0m\u001b[0;34m)\u001b[0m\u001b[0;34m:\u001b[0m\u001b[0;34m\u001b[0m\u001b[0m\n\u001b[1;32m    327\u001b[0m             \u001b[0mhook_result\u001b[0m \u001b[0;34m=\u001b[0m \u001b[0mhook\u001b[0m\u001b[0;34m(\u001b[0m\u001b[0mself\u001b[0m\u001b[0;34m,\u001b[0m \u001b[0minput\u001b[0m\u001b[0;34m,\u001b[0m \u001b[0mresult\u001b[0m\u001b[0;34m)\u001b[0m\u001b[0;34m\u001b[0m\u001b[0m\n",
      "\u001b[0;32m/anaconda3/lib/python3.6/site-packages/torch/nn/modules/loss.py\u001b[0m in \u001b[0;36mforward\u001b[0;34m(self, input, target)\u001b[0m\n\u001b[1;32m    599\u001b[0m         \u001b[0m_assert_no_grad\u001b[0m\u001b[0;34m(\u001b[0m\u001b[0mtarget\u001b[0m\u001b[0;34m)\u001b[0m\u001b[0;34m\u001b[0m\u001b[0m\n\u001b[1;32m    600\u001b[0m         return F.cross_entropy(input, target, self.weight, self.size_average,\n\u001b[0;32m--> 601\u001b[0;31m                                self.ignore_index, self.reduce)\n\u001b[0m\u001b[1;32m    602\u001b[0m \u001b[0;34m\u001b[0m\u001b[0m\n\u001b[1;32m    603\u001b[0m \u001b[0;34m\u001b[0m\u001b[0m\n",
      "\u001b[0;32m/anaconda3/lib/python3.6/site-packages/torch/nn/functional.py\u001b[0m in \u001b[0;36mcross_entropy\u001b[0;34m(input, target, weight, size_average, ignore_index, reduce)\u001b[0m\n\u001b[1;32m   1138\u001b[0m         \u001b[0;34m>>\u001b[0m\u001b[0;34m>\u001b[0m \u001b[0mloss\u001b[0m\u001b[0;34m.\u001b[0m\u001b[0mbackward\u001b[0m\u001b[0;34m(\u001b[0m\u001b[0;34m)\u001b[0m\u001b[0;34m\u001b[0m\u001b[0m\n\u001b[1;32m   1139\u001b[0m     \"\"\"\n\u001b[0;32m-> 1140\u001b[0;31m     \u001b[0;32mreturn\u001b[0m \u001b[0mnll_loss\u001b[0m\u001b[0;34m(\u001b[0m\u001b[0mlog_softmax\u001b[0m\u001b[0;34m(\u001b[0m\u001b[0minput\u001b[0m\u001b[0;34m,\u001b[0m \u001b[0;36m1\u001b[0m\u001b[0;34m)\u001b[0m\u001b[0;34m,\u001b[0m \u001b[0mtarget\u001b[0m\u001b[0;34m,\u001b[0m \u001b[0mweight\u001b[0m\u001b[0;34m,\u001b[0m \u001b[0msize_average\u001b[0m\u001b[0;34m,\u001b[0m \u001b[0mignore_index\u001b[0m\u001b[0;34m,\u001b[0m \u001b[0mreduce\u001b[0m\u001b[0;34m)\u001b[0m\u001b[0;34m\u001b[0m\u001b[0m\n\u001b[0m\u001b[1;32m   1141\u001b[0m \u001b[0;34m\u001b[0m\u001b[0m\n\u001b[1;32m   1142\u001b[0m \u001b[0;34m\u001b[0m\u001b[0m\n",
      "\u001b[0;32m/anaconda3/lib/python3.6/site-packages/torch/nn/functional.py\u001b[0m in \u001b[0;36mnll_loss\u001b[0;34m(input, target, weight, size_average, ignore_index, reduce)\u001b[0m\n\u001b[1;32m   1047\u001b[0m         \u001b[0mweight\u001b[0m \u001b[0;34m=\u001b[0m \u001b[0mVariable\u001b[0m\u001b[0;34m(\u001b[0m\u001b[0mweight\u001b[0m\u001b[0;34m)\u001b[0m\u001b[0;34m\u001b[0m\u001b[0m\n\u001b[1;32m   1048\u001b[0m     \u001b[0;32mif\u001b[0m \u001b[0mdim\u001b[0m \u001b[0;34m==\u001b[0m \u001b[0;36m2\u001b[0m\u001b[0;34m:\u001b[0m\u001b[0;34m\u001b[0m\u001b[0m\n\u001b[0;32m-> 1049\u001b[0;31m         \u001b[0;32mreturn\u001b[0m \u001b[0mtorch\u001b[0m\u001b[0;34m.\u001b[0m\u001b[0m_C\u001b[0m\u001b[0;34m.\u001b[0m\u001b[0m_nn\u001b[0m\u001b[0;34m.\u001b[0m\u001b[0mnll_loss\u001b[0m\u001b[0;34m(\u001b[0m\u001b[0minput\u001b[0m\u001b[0;34m,\u001b[0m \u001b[0mtarget\u001b[0m\u001b[0;34m,\u001b[0m \u001b[0mweight\u001b[0m\u001b[0;34m,\u001b[0m \u001b[0msize_average\u001b[0m\u001b[0;34m,\u001b[0m \u001b[0mignore_index\u001b[0m\u001b[0;34m,\u001b[0m \u001b[0mreduce\u001b[0m\u001b[0;34m)\u001b[0m\u001b[0;34m\u001b[0m\u001b[0m\n\u001b[0m\u001b[1;32m   1050\u001b[0m     \u001b[0;32melif\u001b[0m \u001b[0mdim\u001b[0m \u001b[0;34m==\u001b[0m \u001b[0;36m4\u001b[0m\u001b[0;34m:\u001b[0m\u001b[0;34m\u001b[0m\u001b[0m\n\u001b[1;32m   1051\u001b[0m         \u001b[0;32mreturn\u001b[0m \u001b[0mtorch\u001b[0m\u001b[0;34m.\u001b[0m\u001b[0m_C\u001b[0m\u001b[0;34m.\u001b[0m\u001b[0m_nn\u001b[0m\u001b[0;34m.\u001b[0m\u001b[0mnll_loss2d\u001b[0m\u001b[0;34m(\u001b[0m\u001b[0minput\u001b[0m\u001b[0;34m,\u001b[0m \u001b[0mtarget\u001b[0m\u001b[0;34m,\u001b[0m \u001b[0mweight\u001b[0m\u001b[0;34m,\u001b[0m \u001b[0msize_average\u001b[0m\u001b[0;34m,\u001b[0m \u001b[0mignore_index\u001b[0m\u001b[0;34m,\u001b[0m \u001b[0mreduce\u001b[0m\u001b[0;34m)\u001b[0m\u001b[0;34m\u001b[0m\u001b[0m\n",
      "\u001b[0;31mRuntimeError\u001b[0m: multi-target not supported at /Users/soumith/minicondabuild3/conda-bld/pytorch_1512381214802/work/torch/lib/THNN/generic/ClassNLLCriterion.c:22"
     ]
    }
   ],
   "source": [
    "model=CNNModule()\n",
    "criterion=nn.CrossEntropyLoss()\n",
    "learning_rate=0.015\n",
    "optimizer=torch.optim.SGD(model.parameters(),lr=learning_rate)\n",
    "iter=0\n",
    "for epoch in range(num_epochs):\n",
    "    for i,(images,labels) in enumerate (train_loader):\n",
    "        images=Variable(images)\n",
    "        labels=Variable(labels)\n",
    "\n",
    "        optimizer.zero_grad()\n",
    "        outputs=model(images)\n",
    "        print(outputs)\n",
    "        print(labels)\n",
    "#         out[out>0.6] = 1\n",
    "#         out[out<=0.6] = 0\n",
    "        loss=criterion(outputs,labels)\n",
    "        loss.backward()\n",
    "        optimizer.step()\n",
    "        print(i,loss)\n",
    "        break\n",
    "        \n",
    "#         iter+=1\n",
    "#         if iter%500==0:\n",
    "#             correct=0\n",
    "#             total=0\n",
    "#             for images,labels in val_loader:\n",
    "#                 images=Variable(images)\n",
    "\n",
    "#                 outputs=model(images)\n",
    "                \n",
    "#                 _,predicted=torch.max(outputs.data,1)\n",
    "#                 total+=labels.size(0)\n",
    "#                 correct+=(predicted==labels).sum()\n",
    "#             accuracy= (100.0* correct)/(total)\n",
    "#             print(\"Iteration:\"+str(iter)+\"  Loss:\"+str(loss)+\"  Accuracy:\"+str(accuracy))\n"
   ]
  },
  {
   "cell_type": "code",
   "execution_count": 17,
   "metadata": {},
   "outputs": [
    {
     "data": {
      "text/plain": [
       "Variable containing:\n",
       "\n",
       "Columns 0 to 9 \n",
       " 0.4930  0.4570  0.4742  0.5534  0.4965  0.5229  0.5253  0.5077  0.4365  0.4960\n",
       "\n",
       "Columns 10 to 19 \n",
       " 0.4361  0.4968  0.4941  0.5096  0.4907  0.4886  0.4777  0.4790  0.4819  0.5150\n",
       "\n",
       "Columns 20 to 29 \n",
       " 0.4811  0.5103  0.5058  0.5333  0.5107  0.4584  0.5181  0.5043  0.4742  0.4620\n",
       "\n",
       "Columns 30 to 39 \n",
       " 0.5015  0.5026  0.5687  0.4895  0.4902  0.4851  0.5093  0.5360  0.4789  0.4998\n",
       "\n",
       "Columns 40 to 49 \n",
       " 0.4968  0.5026  0.5016  0.5007  0.5031  0.5240  0.5218  0.5433  0.5129  0.5086\n",
       "\n",
       "Columns 50 to 59 \n",
       " 0.5191  0.5084  0.5095  0.5114  0.5032  0.4995  0.4581  0.4919  0.5283  0.4705\n",
       "\n",
       "Columns 60 to 69 \n",
       " 0.5269  0.5132  0.4981  0.4836  0.4992  0.4960  0.5201  0.4748  0.5170  0.4616\n",
       "\n",
       "Columns 70 to 79 \n",
       " 0.4890  0.4984  0.5084  0.4983  0.5033  0.4797  0.4524  0.5174  0.4932  0.5410\n",
       "\n",
       "Columns 80 to 89 \n",
       " 0.5115  0.5359  0.4390  0.5393  0.4860  0.4889  0.5116  0.5192  0.4977  0.5037\n",
       "\n",
       "Columns 90 to 99 \n",
       " 0.5287  0.5064  0.4465  0.4965  0.5105  0.5298  0.4682  0.5065  0.5301  0.5189\n",
       "\n",
       "Columns 100 to 109 \n",
       " 0.4797  0.4935  0.4943  0.4912  0.4659  0.4771  0.5401  0.5144  0.4673  0.5443\n",
       "\n",
       "Columns 110 to 119 \n",
       " 0.4463  0.4793  0.4610  0.5280  0.5145  0.4870  0.5210  0.4918  0.4522  0.5200\n",
       "\n",
       "Columns 120 to 129 \n",
       " 0.4920  0.4742  0.5186  0.5091  0.5246  0.5066  0.4862  0.4882  0.4966  0.5469\n",
       "\n",
       "Columns 130 to 139 \n",
       " 0.4774  0.4854  0.5143  0.4482  0.5173  0.5252  0.4925  0.4403  0.5145  0.5009\n",
       "\n",
       "Columns 140 to 149 \n",
       " 0.4930  0.5267  0.5123  0.5287  0.5300  0.4730  0.5178  0.5097  0.5137  0.4848\n",
       "\n",
       "Columns 150 to 159 \n",
       " 0.5199  0.4844  0.5226  0.4918  0.4961  0.4450  0.5535  0.4920  0.5083  0.5071\n",
       "\n",
       "Columns 160 to 169 \n",
       " 0.4968  0.5292  0.4609  0.4465  0.4793  0.5191  0.4822  0.4963  0.4907  0.5154\n",
       "\n",
       "Columns 170 to 179 \n",
       " 0.4979  0.4936  0.5228  0.5575  0.5331  0.4745  0.4801  0.4771  0.4884  0.4518\n",
       "\n",
       "Columns 180 to 189 \n",
       " 0.5225  0.4874  0.5146  0.5243  0.5290  0.5093  0.5113  0.5102  0.4961  0.5445\n",
       "\n",
       "Columns 190 to 199 \n",
       " 0.5194  0.5090  0.4905  0.4996  0.4725  0.4947  0.5230  0.5247  0.4520  0.5010\n",
       "\n",
       "Columns 200 to 209 \n",
       " 0.5318  0.4756  0.5615  0.5087  0.5179  0.5457  0.4332  0.4813  0.4469  0.4781\n",
       "\n",
       "Columns 210 to 219 \n",
       " 0.5127  0.4957  0.4694  0.5055  0.5114  0.4830  0.4968  0.4767  0.4912  0.4736\n",
       "\n",
       "Columns 220 to 227 \n",
       " 0.5038  0.4926  0.5028  0.4520  0.5089  0.4957  0.4924  0.4546\n",
       "[torch.FloatTensor of size 1x228]"
      ]
     },
     "execution_count": 17,
     "metadata": {},
     "output_type": "execute_result"
    }
   ],
   "source": [
    "outputs"
   ]
  },
  {
   "cell_type": "code",
   "execution_count": null,
   "metadata": {
    "collapsed": true
   },
   "outputs": [],
   "source": []
  },
  {
   "cell_type": "markdown",
   "metadata": {},
   "source": [
    "## Resize image"
   ]
  },
  {
   "cell_type": "code",
   "execution_count": 127,
   "metadata": {},
   "outputs": [],
   "source": [
    "for i in range(1,201):\n",
    "    img_path=\"/Users/jiayi/1008 deep learning/Image/validation/{}.jpg\".format(i)\n",
    "    image = Image.open(img_path)\n",
    "    tran_img = image.resize((500,500))\n",
    "    tran_img.save(\"/Users/jiayi/1008 deep learning/Image/val_resize/{}.jpg\".format(i), tran_img.format)\n",
    "#     tensor_img = ToTensor()(tran_img).unsqueeze(0)\n",
    "#     tensor_img = Variable(tensor_img)\n",
    "# image = ToTensor()(image).unsqueeze(0) # unsqueeze to add artificial first dimension\n",
    "# image = Variable(image)"
   ]
  },
  {
   "cell_type": "code",
   "execution_count": 37,
   "metadata": {
    "collapsed": true
   },
   "outputs": [],
   "source": [
    "img_path=\"/Users/jiayi/1008 deep learning/Image/train/1r.jpg\"\n",
    "image = Image.open(img_path)"
   ]
  },
  {
   "cell_type": "code",
   "execution_count": 40,
   "metadata": {},
   "outputs": [],
   "source": [
    "tensor_image = ToTensor()(image).unsqueeze(0)"
   ]
  },
  {
   "cell_type": "code",
   "execution_count": 120,
   "metadata": {
    "collapsed": true
   },
   "outputs": [],
   "source": [
    "img_path=\"/Users/jiayi/1008 deep learning/Image/train_resize/{}.jpg\".format(10)\n",
    "image = Image.open(img_path)\n",
    "img = ToTensor()(image)"
   ]
  },
  {
   "cell_type": "code",
   "execution_count": 121,
   "metadata": {},
   "outputs": [
    {
     "data": {
      "text/plain": [
       "\n",
       "( 0 ,.,.) = \n",
       "  0.5412  0.5686  0.5373  ...   0.5059  0.5451  0.5647\n",
       "  0.3098  0.3176  0.2431  ...   0.5020  0.5412  0.5608\n",
       "  0.1725  0.1647  0.0863  ...   0.4902  0.5255  0.5451\n",
       "           ...             ⋱             ...          \n",
       "  0.9294  0.9412  0.9529  ...   0.8745  0.8745  0.8745\n",
       "  0.9294  0.9412  0.9529  ...   0.8745  0.8745  0.8745\n",
       "  0.9294  0.9412  0.9529  ...   0.8745  0.8745  0.8745\n",
       "\n",
       "( 1 ,.,.) = \n",
       "  0.5804  0.6078  0.5647  ...   0.5333  0.5725  0.5922\n",
       "  0.3490  0.3451  0.2706  ...   0.5333  0.5725  0.5922\n",
       "  0.2000  0.1922  0.1137  ...   0.5451  0.5804  0.6000\n",
       "           ...             ⋱             ...          \n",
       "  0.9059  0.9176  0.9294  ...   0.8784  0.8784  0.8784\n",
       "  0.9059  0.9176  0.9294  ...   0.8784  0.8784  0.8784\n",
       "  0.9059  0.9176  0.9294  ...   0.8784  0.8784  0.8784\n",
       "\n",
       "( 2 ,.,.) = \n",
       "  0.5490  0.5765  0.5373  ...   0.4706  0.5098  0.5294\n",
       "  0.3176  0.3176  0.2431  ...   0.4745  0.5137  0.5333\n",
       "  0.1725  0.1647  0.0863  ...   0.4863  0.5216  0.5412\n",
       "           ...             ⋱             ...          \n",
       "  0.8431  0.8549  0.8667  ...   0.8549  0.8549  0.8549\n",
       "  0.8431  0.8549  0.8667  ...   0.8549  0.8549  0.8549\n",
       "  0.8431  0.8549  0.8667  ...   0.8549  0.8549  0.8549\n",
       "[torch.FloatTensor of size 3x500x500]"
      ]
     },
     "execution_count": 121,
     "metadata": {},
     "output_type": "execute_result"
    }
   ],
   "source": [
    "img"
   ]
  },
  {
   "cell_type": "code",
   "execution_count": 31,
   "metadata": {},
   "outputs": [
    {
     "data": {
      "text/plain": [
       "\n",
       " 2\n",
       " 1\n",
       " 0\n",
       " 3\n",
       " 1\n",
       " 0\n",
       " 2\n",
       "[torch.LongTensor of size 7]"
      ]
     },
     "execution_count": 31,
     "metadata": {},
     "output_type": "execute_result"
    }
   ],
   "source": [
    "a = np.asarray([2,1,12,3,1,4,2])\n",
    "b = torch.from_numpy(a)\n",
    "b.size()\n",
    "b[b>3]=0\n",
    "b"
   ]
  },
  {
   "cell_type": "code",
   "execution_count": 32,
   "metadata": {},
   "outputs": [
    {
     "data": {
      "text/plain": [
       "array([2, 1, 0, 3, 1, 0, 2])"
      ]
     },
     "execution_count": 32,
     "metadata": {},
     "output_type": "execute_result"
    }
   ],
   "source": [
    "a"
   ]
  },
  {
   "cell_type": "code",
   "execution_count": 33,
   "metadata": {},
   "outputs": [
    {
     "data": {
      "text/plain": [
       "3"
      ]
     },
     "execution_count": 33,
     "metadata": {},
     "output_type": "execute_result"
    }
   ],
   "source": [
    "c"
   ]
  },
  {
   "cell_type": "code",
   "execution_count": null,
   "metadata": {
    "collapsed": true
   },
   "outputs": [],
   "source": []
  }
 ],
 "metadata": {
  "kernelspec": {
   "display_name": "Python 3",
   "language": "python",
   "name": "python3"
  },
  "language_info": {
   "codemirror_mode": {
    "name": "ipython",
    "version": 3
   },
   "file_extension": ".py",
   "mimetype": "text/x-python",
   "name": "python",
   "nbconvert_exporter": "python",
   "pygments_lexer": "ipython3",
   "version": "3.6.3"
  }
 },
 "nbformat": 4,
 "nbformat_minor": 2
}
